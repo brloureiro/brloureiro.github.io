{
  "cells": [
    {
      "cell_type": "code",
      "execution_count": null,
      "metadata": {
        "id": "6mxX3Bq1nD04"
      },
      "outputs": [],
      "source": [
        "import numpy as np\n",
        "import matplotlib.pyplot as plt"
      ]
    },
    {
      "cell_type": "markdown",
      "metadata": {
        "id": "T1-XPxVWlkiv"
      },
      "source": [
        "# 1. Bias and Variance in Polynomial Fitting"
      ]
    },
    {
      "cell_type": "markdown",
      "metadata": {
        "id": "qi2h-6xpmI1m"
      },
      "source": [
        "For this exercise we consider training data sampled as follow:\n",
        "$$x\\sim {\\rm Unif}([0, 2]),\\quad \\varepsilon \\sim \\mathcal N(0, \\sigma^2)$$\n",
        "$$y = f_\\star(x) + \\epsilon = {\\rm sin}(2\\pi x) + \\epsilon$$\n",
        "\n",
        "1.1) Define a function that samples $n$ data points $\\mathcal D =\\{(x_i, y_i)\\}_{i=1}^n$ and return the arrays $[x_1, ..., x_n]$ and $[y_1, ..., y_n]$."
      ]
    },
    {
      "cell_type": "code",
      "execution_count": null,
      "metadata": {
        "id": "ZXyr5fvUJueN"
      },
      "outputs": [],
      "source": [
        "def true_function(x):\n",
        "  return np.sin(2*np.pi*x)\n",
        "\n",
        "def sample_data(size, noise_var = 0.1):\n",
        "  ####"
      ]
    },
    {
      "cell_type": "markdown",
      "metadata": {
        "id": "PY3BMCLBntrR"
      },
      "source": [
        "We are going to fit the data with a polynomial of $x$ of degree $k$, *i.e.* by computing coefficients $\\beta_0, \\beta_1, ..., \\beta_k$ such that the estimator is $\\hat y (x) = \\beta_0 + \\beta_1 x + \\beta_2 x^2 + ... + \\beta_k x^k$.\n",
        "\n",
        "Can you think of a simple way to do it in practice?\n",
        "\n",
        "1.2) Define a function that takes as input the training data and label arrays, perform polynomial fitting (degree $k$) and returns the fitted model"
      ]
    },
    {
      "cell_type": "code",
      "execution_count": null,
      "metadata": {
        "id": "vXZmV1q5J_gO"
      },
      "outputs": [],
      "source": [
        "from sklearn.preprocessing import PolynomialFeatures\n",
        "from sklearn.linear_model import LinearRegression"
      ]
    },
    {
      "cell_type": "code",
      "execution_count": null,
      "metadata": {
        "id": "OLnWwcRvJ6ND"
      },
      "outputs": [],
      "source": [
        "def poly_features(degree, X): #\"fit\" PolynomialFeatures to data\n",
        "  poly = PolynomialFeatures(degree)\n",
        "  ####\n",
        "  return poly\n",
        "def poly_fit(X, y, poly): #fit of polynomial features\n",
        "  X_poly = ####\n",
        "  model = ####\n",
        "  model.fit(X_poly, y)\n",
        "  return model"
      ]
    },
    {
      "cell_type": "markdown",
      "metadata": {
        "id": "jYO01l1rAb-1"
      },
      "source": [
        "Expected risk:\n",
        "$$R_{test}(\\hat y) = \\mathbb E_{x, y, \\mathcal D}[(y - \\hat y (x))^2] = \\sigma^2 + {\\rm Bias}^2(\\hat y) + {\\rm Variance}(\\hat y),$$\n",
        "where\n",
        "$${\\rm Bias}^2(\\hat y) = \\mathbb E_{x}[\\mathbb E_{\\mathcal D}[(\\hat y(x)] - f_\\star(x))^2] $$\n",
        "and\n",
        "$${\\rm Variance}(\\hat y) = \\mathbb E_{x,\\mathcal D}[(\\hat y(x) - \\mathbb E_{\\mathcal D}[\\hat y(x)])^2] = \\mathbb E_x {\\rm Var}_{\\mathcal D}[\\hat y(x)].$$"
      ]
    },
    {
      "cell_type": "markdown",
      "metadata": {
        "id": "RQmQvcukDzSX"
      },
      "source": [
        "The aim of this exercise is to compute the (empirical) bias and variance for our model and observe how they depend on the degree $k$.\n",
        "\n",
        "1.3) Define a function that computes empirically bias and variance, given the polynomial degree $k$, returning their average and standard deviation.\n",
        "\n",
        "*Suggestions:*\n",
        "\n",
        "\n",
        "*   sample $N$ datasets $\\mathcal D_1, ..., \\mathcal D_N$ of training data\n",
        "*   for each training dataset $\\mathcal D_j$, fit the model and obtain the correspondent estimator $\\hat y_j(x)$ (use the function you have defined before)\n",
        "*   for each training dataset, consider the same set of test data, which can be used to compute \"$\\mathbb E_x$\".\n",
        "\n"
      ]
    },
    {
      "cell_type": "code",
      "execution_count": null,
      "metadata": {
        "id": "i6DzZdJtLFq1"
      },
      "outputs": [],
      "source": [
        "def compute_bias_variance(train_size, test_size, degree = 1, seeds = 100, noise_var = 0.1):\n",
        "    ####"
      ]
    },
    {
      "cell_type": "markdown",
      "metadata": {
        "id": "jGdY5JkoHqrH"
      },
      "source": [
        "1.4) Consider $n = 100$, $\\sigma^2 = 0.5$, $N = 500$ and $n_{test} = 300$. Compute bias and variance for $k = 1, ..., 12$ and plot them, as a function of the polynomial degree, together with the test risk."
      ]
    },
    {
      "cell_type": "code",
      "execution_count": null,
      "metadata": {
        "id": "01-obQPsmHpF"
      },
      "outputs": [],
      "source": [
        "n = 100\n",
        "noise_var = 0.5\n",
        "N = 500\n",
        "n_test = 300\n",
        "max_degree = 12\n",
        "degrees = np.arange(1,max_degree + 1)\n",
        "\n",
        "####"
      ]
    },
    {
      "cell_type": "code",
      "execution_count": null,
      "metadata": {
        "colab": {
          "base_uri": "https://localhost:8080/",
          "height": 490
        },
        "id": "kg_hZQjHwhFe",
        "outputId": "fcc3f9d2-188c-48a7-9a8b-3a900281c3a8"
      },
      "outputs": [
        {
          "data": {
            "text/plain": [
              "Text(0.5, 1.0, 'Bias vs Variance')"
            ]
          },
          "execution_count": 9,
          "metadata": {},
          "output_type": "execute_result"
        },
        {
          "data": {
            "image/png": "[encoded data removed]",
            "text/plain": [
              "<Figure size 640x480 with 1 Axes>"
            ]
          },
          "metadata": {},
          "output_type": "display_data"
        }
      ],
      "source": [
        "####\n",
        "\n",
        "plt.xlabel('Polynomial degree')\n",
        "plt.title('Bias vs Variance')"
      ]
    },
    {
      "cell_type": "markdown",
      "metadata": {
        "id": "EZ5XssO4R9eD"
      },
      "source": [
        "1.5) Consider now a smaller training dataset, $n = 20$, $\\sigma^2 = 0.1$, and train the model for $k = 1, 6, 10, 15$. Plot the data points and the model predictions over a grid on $[0, 2]$.\n",
        "\n",
        "*Suggestion:* use `plt.ylim()` to set the limits for the $y$-axis in your plot."
      ]
    },
    {
      "cell_type": "code",
      "execution_count": null,
      "metadata": {
        "colab": {
          "base_uri": "https://localhost:8080/",
          "height": 473
        },
        "id": "E47ccEAoAQk4",
        "outputId": "4b991780-b02c-454b-a458-7a31931cc94d"
      },
      "outputs": [
        {
          "data": {
            "text/plain": [
              "Text(0, 0.5, 'y')"
            ]
          },
          "execution_count": 10,
          "metadata": {},
          "output_type": "execute_result"
        },
        {
          "data": {
            "image/png": "[encoded data removed]",
            "text/plain": [
              "<Figure size 640x480 with 1 Axes>"
            ]
          },
          "metadata": {},
          "output_type": "display_data"
        }
      ],
      "source": [
        "#X_train, y_train = ####\n",
        "grid = np.linspace(0, 2, 200)\n",
        "degrees_2 = [1, 6, 10, 15]\n",
        "\n",
        "\n",
        "####\n",
        "\n",
        "plt.ylim(-2,2)\n",
        "plt.xlabel('x')\n",
        "plt.ylabel('y')"
      ]
    },
    {
      "cell_type": "markdown",
      "metadata": {
        "id": "7xlf2gW9V5Wt"
      },
      "source": [
        "# 2. Robustness under data corruption"
      ]
    },
    {
      "cell_type": "markdown",
      "metadata": {
        "id": "VNykkohSW3UW"
      },
      "source": [
        "The purpose of this exercise is to compare the performances of different estimators in presence of data corruption.\n",
        "\n",
        "We are going to consider a basic example. Consider $n$ i.i.d. random variables $X_1, ..., X_n$. \"Ideally\" $X_i\\sim\\mathcal N_{\\rm std}$, but in practice we will have access to a dataset where some of the data points may be corrupted.\n",
        "\n",
        "The aim is to estimate $\\mathbb E[X]$, by computing $$\\hat\\mu_\\ell \\in \\arg\\min_{\\hat \\mu\\in\\mathbb R}\\sum_{i=1}^n\\ell(X_i, \\hat \\mu),$$\n",
        "for a given loss function $\\ell(\\cdot,\\cdot)$. In particular we are going to consider the estimators obtained with the square loss ($\\hat\\mu_2$), the absolute loss ($\\hat\\mu_1$) and the Huber loss ($\\hat\\mu_H$).\n",
        "\n",
        "Do you remember what $\\hat \\mu_1$ and $\\hat \\mu_2$ represent?"
      ]
    },
    {
      "cell_type": "code",
      "execution_count": null,
      "metadata": {
        "id": "6XIWhIGvcNqF"
      },
      "outputs": [],
      "source": [
        "from sklearn.linear_model import HuberRegressor\n",
        "\n",
        "#This is one way to compute the Huber estimator\n",
        "def huber_estimator(x, delta):\n",
        "  hub = HuberRegressor(epsilon = delta, fit_intercept=False)\n",
        "  ones = np.ones((x.shape[0],1))\n",
        "  huber = hub.fit(ones, x)\n",
        "  return huber.coef_[0]"
      ]
    },
    {
      "cell_type": "markdown",
      "metadata": {
        "id": "WSz-L7EWaNq6"
      },
      "source": [
        "## Additive corruption: outliers"
      ]
    },
    {
      "cell_type": "markdown",
      "metadata": {
        "id": "21zu01AOafKP"
      },
      "source": [
        "In this example, a fraction $\\epsilon$ of data points is drawn from a separate source polluting the sample. We are going to consider the following case\n",
        "$$X_i\\sim_{\\rm i.i.d.} (1 - ϵ)\\mathcal N_{\\rm std} + ϵ\\;\\mathcal N(\\mu, \\sigma^2).$$\n",
        "\n",
        "2.1) Define a function that samples this type of corrupted dataset. Choose $n = 1000$, $\\mu = 1$ and $\\sigma^2 = 10$. For $\\epsilon$ ranging from 0 to 0.3, sample $N = 20$ datasets and, for each of them, compute $\\hat\\mu_2$, $\\hat\\mu_1$ and $\\hat\\mu_H$ (you may set the Huber parameter $\\delta = 1.1$). Plot the average of each estimator (*optional: with errorbars*) as a function of the corruption level $\\epsilon$."
      ]
    },
    {
      "cell_type": "code",
      "execution_count": null,
      "metadata": {
        "id": "wVxkrgQafpJ4"
      },
      "outputs": [],
      "source": [
        "def sample_additve_corrupted(n, epsilon, mu = 1, noise_var_out = 10):\n",
        "  ####\n",
        "  return x"
      ]
    },
    {
      "cell_type": "code",
      "execution_count": null,
      "metadata": {
        "id": "-orXGk_7ivdC"
      },
      "outputs": [],
      "source": [
        "# optional: visualize an example of sample (histogram): e.g. n = 500, epsilon = 0.1"
      ]
    },
    {
      "cell_type": "code",
      "execution_count": null,
      "metadata": {
        "id": "RpNdZ8NaaeYv"
      },
      "outputs": [],
      "source": [
        "n = 1000\n",
        "l = 20\n",
        "corruption_levels = np.linspace(0, 0.3, l)\n",
        "N = 20\n",
        "\n"
      ]
    },
    {
      "cell_type": "code",
      "execution_count": null,
      "metadata": {
        "colab": {
          "base_uri": "https://localhost:8080/",
          "height": 467
        },
        "id": "WldqSFi3W2oq",
        "outputId": "f1762c28-2564-4e14-c011-1101448e92a5"
      },
      "outputs": [
        {
          "data": {
            "text/plain": [
              "Text(0, 0.5, 'Estimator')"
            ]
          },
          "execution_count": 14,
          "metadata": {},
          "output_type": "execute_result"
        },
        {
          "data": {
            "image/png": "[encoded data removed]",
            "text/plain": [
              "<Figure size 640x480 with 1 Axes>"
            ]
          },
          "metadata": {},
          "output_type": "display_data"
        }
      ],
      "source": [
        "###\n",
        "plt.xlabel('Contamination level')\n",
        "plt.ylabel('Estimator')"
      ]
    },
    {
      "cell_type": "markdown",
      "metadata": {
        "id": "eijnuwsS9R37"
      },
      "source": [
        "## Capped measurements"
      ]
    },
    {
      "cell_type": "markdown",
      "metadata": {
        "id": "RR3Epm6NoziH"
      },
      "source": [
        "In this second example we consider the case of \"saturation\" of the data value at a threshold $T$. Let's consider, for instance, an uncorrupted sample $\\{\\tilde X_i\\}_{i=1}^n$, then the corrupted sample may be constructed as\n",
        "$$X_i = \\min\\{\\tilde X_i, T\\},\\text{ for } i = 1, ..., n$$"
      ]
    },
    {
      "cell_type": "markdown",
      "metadata": {
        "id": "GaHq4kZuhcde"
      },
      "source": [
        "2.2) Repeat the previous exercise, considering this example of corruption, for $T$ ranging from 1 to 3."
      ]
    },
    {
      "cell_type": "code",
      "execution_count": null,
      "metadata": {
        "id": "FhUiPT3dhb6j"
      },
      "outputs": [],
      "source": [
        "def sample_saturation_corrupted(n, T):\n",
        "  ####\n",
        "  return ####"
      ]
    },
    {
      "cell_type": "code",
      "execution_count": null,
      "metadata": {
        "id": "n5NlNAXBAVFC"
      },
      "outputs": [],
      "source": [
        "####"
      ]
    },
    {
      "cell_type": "code",
      "execution_count": null,
      "metadata": {
        "id": "TdllgGQk15mu"
      },
      "outputs": [],
      "source": [
        "n = 1000\n",
        "l = 50\n",
        "threshold_levels = np.linspace(0, 3, l)\n",
        "N = 50\n",
        "\n",
        "####"
      ]
    },
    {
      "cell_type": "code",
      "execution_count": null,
      "metadata": {
        "colab": {
          "base_uri": "https://localhost:8080/",
          "height": 467
        },
        "id": "ynqS_2rcHLB8",
        "outputId": "5dd9d4a3-dd4b-4866-f881-8a6234fba97d"
      },
      "outputs": [
        {
          "name": "stderr",
          "output_type": "stream",
          "text": [
            "No artists with labels found to put in legend.  Note that artists whose label start with an underscore are ignored when legend() is called with no argument.\n"
          ]
        },
        {
          "data": {
            "text/plain": [
              "Text(0, 0.5, 'Estimator')"
            ]
          },
          "execution_count": 17,
          "metadata": {},
          "output_type": "execute_result"
        },
        {
          "data": {
            "image/png": "[encoded data removed]",
            "text/plain": [
              "<Figure size 640x480 with 1 Axes>"
            ]
          },
          "metadata": {},
          "output_type": "display_data"
        }
      ],
      "source": [
        "plt.legend()\n",
        "plt.xlabel('Threshold')\n",
        "plt.ylabel('Estimator')"
      ]
    },
    {
      "cell_type": "markdown",
      "metadata": {
        "id": "Ynx7iWHJzBiY"
      },
      "source": [
        "2.3) You may repeat the exercise with differend kinds of corruptions. For instance: consider a dataset sampled from the uncorrupted distribution and, if a data point is below a threshold $T$, you remove it from the sample with probability $\\epsilon$ and keep it with probability $1 - \\epsilon$.\n",
        "\n",
        "Moreover, consider the first example (outliers), with variance of the contaminating distribution smaller than 1: is the median still robust? Can you explain why?"
      ]
    },
    {
      "cell_type": "markdown",
      "metadata": {
        "id": "81-MdytowRWA"
      },
      "source": [
        "# 3. k-fold Cross-Validation Risk vs Population Risk"
      ]
    },
    {
      "cell_type": "markdown",
      "metadata": {
        "id": "r3UcAXUtdn9i"
      },
      "source": [
        "In this exercise, we consider the following classification problem: dataset $\\{(x_i, y_i)\\}_{i=1}^n$ i.i.d., where\n",
        "$$y_i = \\operatorname{sign}(\\langle x_i, \\theta \\rangle + \\eta_i)$$\n",
        "with $x_i\\sim\\mathcal N(0, \\mathbb I_d)$ and $\\eta_i\\sim\\mathcal N(\\mu, \\sigma^2)$."
      ]
    },
    {
      "cell_type": "code",
      "execution_count": null,
      "metadata": {
        "id": "oLIbntxJ159X"
      },
      "outputs": [],
      "source": [
        "from sklearn.model_selection import KFold, cross_val_score\n",
        "from sklearn.linear_model import LogisticRegression"
      ]
    },
    {
      "cell_type": "code",
      "execution_count": null,
      "metadata": {
        "id": "xtQ-pNxKJFQ6"
      },
      "outputs": [],
      "source": [
        "# Define a function that samples the dataset, given theta\n",
        "\n",
        "def sample_classification(n, d, theta, noise_var = 1, noise_mean = 0.25):\n",
        "  X = np.random.randn(n, d) + 0.25\n",
        "  noise = np.random.randn(n)*np.sqrt(noise_var) + noise_mean\n",
        "  y = np.sign(X.dot(theta) + noise)\n",
        "  return X, y"
      ]
    },
    {
      "cell_type": "code",
      "execution_count": null,
      "metadata": {
        "id": "-Ei2trIUJgCF"
      },
      "outputs": [],
      "source": [
        "# Define a function that fits a Logistic Regression models\n",
        "# Note: logistic regression allows to weight each class, you can control this feature through the parameter w:\n",
        "#       this is useful when the number of data in each class is unbalanced\n",
        "\n",
        "def fit_LogisticRegression(X, y, w = 1):\n",
        "  LR = LogisticRegression(class_weight={-1 : 1, 1 : w})\n",
        "  LR.fit(X, y)\n",
        "  return LR\n",
        "\n",
        "# Define a function that estimated the population risk, given a fitted model\n",
        "\n",
        "def compute_population_risk(n_test, d, theta, fitted_model, noise_var = 1, noise_mean = 0.25):\n",
        "  X_test, y_test = sample_classification(n_test, d, theta, noise_var = noise_var, noise_mean = noise_mean)\n",
        "  return 1 - fitted_model.score(X_test, y_test)\n"
      ]
    },
    {
      "cell_type": "markdown",
      "metadata": {
        "id": "yxctiSa6uIxv"
      },
      "source": [
        "3.1) Fit the Logistic Regression model on a training dataset and estimate the population risk, as a function of the weight $w$. Plot the results."
      ]
    },
    {
      "cell_type": "code",
      "execution_count": null,
      "metadata": {
        "id": "-Vbm8MQmJIHX"
      },
      "outputs": [],
      "source": [
        "w_array = np.linspace(0.5, 2.5, 100)\n",
        "n_sample = 1000\n",
        "dim = 100\n",
        "theta = np.random.randn(dim) / np.sqrt(dim)\n",
        "noise_mean = 1\n",
        "noise_var = 1\n",
        "\n",
        "####"
      ]
    },
    {
      "cell_type": "code",
      "execution_count": null,
      "metadata": {
        "colab": {
          "base_uri": "https://localhost:8080/",
          "height": 467
        },
        "id": "QUD7pz3RUSY4",
        "outputId": "a57e39f2-be1a-4113-ccfb-d18db04cf442"
      },
      "outputs": [
        {
          "data": {
            "text/plain": [
              "Text(0, 0.5, 'Population risk')"
            ]
          },
          "execution_count": 19,
          "metadata": {},
          "output_type": "execute_result"
        },
        {
          "data": {
            "image/png": "[encoded data removed]",
            "text/plain": [
              "<Figure size 640x480 with 1 Axes>"
            ]
          },
          "metadata": {},
          "output_type": "display_data"
        }
      ],
      "source": [
        "###\n",
        "plt.xlabel('w')\n",
        "plt.ylabel('Population risk')"
      ]
    },
    {
      "cell_type": "markdown",
      "metadata": {
        "id": "jsgBZQ66uhgb"
      },
      "source": [
        "It is not always possible to use a large amount of data to estimate the population risk. A common practice is to compute the cross-validation risk as an approximation of the population one.\n",
        "\n",
        "3.2) Compute the K-fold cross-validation risk for $K = 2, 3, 15$, as a function of $w$. Plot the results, together with the population risk."
      ]
    },
    {
      "cell_type": "code",
      "execution_count": null,
      "metadata": {
        "id": "bF5JcP6pYruJ"
      },
      "outputs": [],
      "source": [
        "def compute_cv_risk(X, y, splits = 3, w = 1):\n",
        "  LR = LogisticRegression(class_weight={-1:1, 1:w})\n",
        "  cv_scores = cross_val_score(LR, X, y, cv=splits, scoring='accuracy')\n",
        "  cv_risk = 1 - np.mean(cv_scores) # This corresponds to the 0-1 loss\n",
        "  return cv_risk"
      ]
    },
    {
      "cell_type": "code",
      "execution_count": null,
      "metadata": {
        "id": "2OLeHghtYs97"
      },
      "outputs": [],
      "source": [
        "splits_values = np.array([2, 3, 15])\n",
        "####"
      ]
    },
    {
      "cell_type": "code",
      "execution_count": null,
      "metadata": {
        "colab": {
          "base_uri": "https://localhost:8080/",
          "height": 467
        },
        "id": "b0UvnIEDZ1p9",
        "outputId": "47d810a5-e89f-455e-bd65-dd1c8b426d6c"
      },
      "outputs": [
        {
          "data": {
            "text/plain": [
              "Text(0, 0.5, 'Risk')"
            ]
          },
          "execution_count": 22,
          "metadata": {},
          "output_type": "execute_result"
        },
        {
          "data": {
            "image/png": "[encoded data removed]",
            "text/plain": [
              "<Figure size 640x480 with 1 Axes>"
            ]
          },
          "metadata": {},
          "output_type": "display_data"
        }
      ],
      "source": [
        "###\n",
        "\n",
        "plt.xlabel('w')\n",
        "plt.ylabel('Risk')"
      ]
    }
  ],
  "metadata": {
    "colab": {
      "provenance": []
    },
    "kernelspec": {
      "display_name": "Python 3 (ipykernel)",
      "language": "python",
      "name": "python3"
    },
    "language_info": {
      "codemirror_mode": {
        "name": "ipython",
        "version": 3
      },
      "file_extension": ".py",
      "mimetype": "text/x-python",
      "name": "python",
      "nbconvert_exporter": "python",
      "pygments_lexer": "ipython3",
      "version": "3.8.18"
    }
  },
  "nbformat": 4,
  "nbformat_minor": 0
}